{
 "cells": [
  {
   "attachments": {},
   "cell_type": "markdown",
   "metadata": {},
   "source": [
    "In questo quaderno esploreremo alcuni pacchetti di analisi dati e applicheremo le tecniche di base per analizzare i dati."
   ]
  },
  {
   "attachments": {},
   "cell_type": "markdown",
   "metadata": {},
   "source": [
    "# Exploring data arrays with NumPy"
   ]
  },
  {
   "cell_type": "code",
   "execution_count": 2,
   "metadata": {},
   "outputs": [
    {
     "name": "stdout",
     "output_type": "stream",
     "text": [
      "[50, 50, 47, 97, 49, 3, 53, 42, 26, 74, 82, 62, 37, 15, 70, 27, 36, 35, 48, 52, 63, 64]\n",
      "[50 50 47 97 49  3 53 42 26 74 82 62 37 15 70 27 36 35 48 52 63 64]\n"
     ]
    }
   ],
   "source": [
    "import numpy as np\n",
    "\n",
    "#python list\n",
    "data = [50,50,47,97,49,3,53,42,26,74,82,62,37,15,70,27,36,35,48,52,63,64]\n",
    "print(data)\n",
    "#numpy array\n",
    "grades = np.array(data)\n",
    "print(grades)"
   ]
  },
  {
   "attachments": {},
   "cell_type": "markdown",
   "metadata": {},
   "source": [
    "Per capire la differenza tra i due tipi confronto il loro comportamento quando li utilizzo in un'espressione che li moltiplica per 2"
   ]
  },
  {
   "cell_type": "code",
   "execution_count": 3,
   "metadata": {},
   "outputs": [
    {
     "name": "stdout",
     "output_type": "stream",
     "text": [
      "<class 'list'> x 2: [50, 50, 47, 97, 49, 3, 53, 42, 26, 74, 82, 62, 37, 15, 70, 27, 36, 35, 48, 52, 63, 64, 50, 50, 47, 97, 49, 3, 53, 42, 26, 74, 82, 62, 37, 15, 70, 27, 36, 35, 48, 52, 63, 64]\n",
      "---\n",
      "<class 'numpy.ndarray'> x 2: [100 100  94 194  98   6 106  84  52 148 164 124  74  30 140  54  72  70\n",
      "  96 104 126 128]\n"
     ]
    }
   ],
   "source": [
    "print (type(data),'x 2:', data * 2)\n",
    "print('---')\n",
    "print (type(grades),'x 2:', grades * 2)"
   ]
  },
  {
   "attachments": {},
   "cell_type": "markdown",
   "metadata": {},
   "source": [
    "Moltiplicando una lista per 2 si crea una nuova lista di lunghezza doppia con la sequenza originale di elementi dell'elenco ripetuti. La moltiplicazione di un array NumPy, invece, esegue un calcolo element-wise in cui l'array si comporta come un vettore, per cui si ottiene un array della stessa dimensione in cui ogni elemento è stato moltiplicato per 2.\n",
    "Gli array di NumPy sono progettati specificamente per supportare le operazioni matematiche sui dati numerici, il che li rende più utili per l'analisi dei dati rispetto a una lista generica.\n",
    "- numpy.ndarray. L'nd indica che si tratta di una struttura che può essere composta da più dimensioni (può avere n dimensioni)."
   ]
  },
  {
   "cell_type": "code",
   "execution_count": 4,
   "metadata": {},
   "outputs": [
    {
     "data": {
      "text/plain": [
       "(22,)"
      ]
     },
     "execution_count": 4,
     "metadata": {},
     "output_type": "execute_result"
    }
   ],
   "source": [
    "grades.shape"
   ]
  },
  {
   "attachments": {},
   "cell_type": "markdown",
   "metadata": {},
   "source": [
    "shape conferma che questa matrice ha una sola dimensione, che contiene 22 elementi."
   ]
  },
  {
   "attachments": {},
   "cell_type": "markdown",
   "metadata": {},
   "source": [
    "# Alcune operazioni su dati"
   ]
  },
  {
   "cell_type": "code",
   "execution_count": 5,
   "metadata": {},
   "outputs": [
    {
     "data": {
      "text/plain": [
       "49.18181818181818"
      ]
     },
     "execution_count": 5,
     "metadata": {},
     "output_type": "execute_result"
    }
   ],
   "source": [
    "grades.mean()"
   ]
  },
  {
   "attachments": {},
   "cell_type": "markdown",
   "metadata": {},
   "source": [
    "aggiungo una secondo set di dati per gli stessi studenti, questa volta registrando il numero di ore settimanali dedicate allo studio."
   ]
  },
  {
   "cell_type": "code",
   "execution_count": 8,
   "metadata": {},
   "outputs": [
    {
     "name": "stdout",
     "output_type": "stream",
     "text": [
      "[[10.   11.5   9.   16.    9.25  1.   11.5   9.    8.5  14.5  15.5  13.75\n",
      "   9.    8.   15.5   8.    9.    6.   10.   12.   12.5  12.  ]\n",
      " [50.   50.   47.   97.   49.    3.   53.   42.   26.   74.   82.   62.\n",
      "  37.   15.   70.   27.   36.   35.   48.   52.   63.   64.  ]]\n"
     ]
    }
   ],
   "source": [
    "study_hours = [10.0,11.5,9.0,16.0,9.25,1.0,11.5,9.0,8.5,14.5,15.5,13.75,9.0,8.0,15.5,8.0,9.0,6.0,10.0,12.0,12.5,12.0]\n",
    "\n",
    "# Array bidimensionale - un array di array\n",
    "student_data = np.array([study_hours, grades])\n",
    "\n",
    "print(student_data.shape)\n",
    "\n",
    "print(student_data)\n",
    "\n"
   ]
  }
 ],
 "metadata": {
  "kernelspec": {
   "display_name": "base",
   "language": "python",
   "name": "python3"
  },
  "language_info": {
   "codemirror_mode": {
    "name": "ipython",
    "version": 3
   },
   "file_extension": ".py",
   "mimetype": "text/x-python",
   "name": "python",
   "nbconvert_exporter": "python",
   "pygments_lexer": "ipython3",
   "version": "3.9.12"
  },
  "orig_nbformat": 4,
  "vscode": {
   "interpreter": {
    "hash": "e0d86bde9ad9c10c7d1cedfc01809e1f014a5f3435ffaada6125cd9a8e669da3"
   }
  }
 },
 "nbformat": 4,
 "nbformat_minor": 2
}
