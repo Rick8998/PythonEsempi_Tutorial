{
 "cells": [
  {
   "attachments": {},
   "cell_type": "markdown",
   "metadata": {},
   "source": [
    "display today's date"
   ]
  },
  {
   "cell_type": "code",
   "execution_count": 2,
   "metadata": {},
   "outputs": [
    {
     "name": "stdout",
     "output_type": "stream",
     "text": [
      "2022-12-27\n"
     ]
    }
   ],
   "source": [
    "from datetime import date\n",
    "print(date.today())"
   ]
  },
  {
   "attachments": {},
   "cell_type": "markdown",
   "metadata": {},
   "source": [
    "converting parsecs to lightyears (One parsec is 3.26 lightyears)"
   ]
  },
  {
   "cell_type": "code",
   "execution_count": 4,
   "metadata": {},
   "outputs": [
    {
     "name": "stdout",
     "output_type": "stream",
     "text": [
      "10 parsecs è 32.599999999999994 anni luce\n"
     ]
    }
   ],
   "source": [
    "parsecs = 10\n",
    "anni_luce = parsecs * 3.26\n",
    "\n",
    "print(str(parsecs) + \" parsecs è \" + str(anni_luce) + \" anni luce\")"
   ]
  },
  {
   "attachments": {},
   "cell_type": "markdown",
   "metadata": {},
   "source": [
    "input utente"
   ]
  },
  {
   "cell_type": "code",
   "execution_count": 6,
   "metadata": {},
   "outputs": [
    {
     "name": "stdout",
     "output_type": "stream",
     "text": [
      "salve, pippo\n"
     ]
    }
   ],
   "source": [
    "\n",
    "name = input(\"inserisci il tuo nome:\")\n",
    "print(\"salve, \"+name)"
   ]
  },
  {
   "attachments": {},
   "cell_type": "markdown",
   "metadata": {},
   "source": [
    "numeri in input"
   ]
  },
  {
   "cell_type": "code",
   "execution_count": 8,
   "metadata": {},
   "outputs": [
    {
     "name": "stdout",
     "output_type": "stream",
     "text": [
      "Calcolatrice\n",
      "6\n"
     ]
    }
   ],
   "source": [
    "print(\"Calcolatrice\")\n",
    "first_n = input(\"Primo numero:\")\n",
    "second_n = input(\"Secondo numero:\")\n",
    "print(int(first_n) + int(second_n))\n",
    "#se avessi fatto print(first_number + second_number) avrei concatenato delle stringhe, in quanto l'input salva il risultato come stringa"
   ]
  },
  {
   "attachments": {},
   "cell_type": "markdown",
   "metadata": {},
   "source": [
    "converting input parsecs to lightyears"
   ]
  },
  {
   "cell_type": "code",
   "execution_count": 12,
   "metadata": {},
   "outputs": [
    {
     "name": "stdout",
     "output_type": "stream",
     "text": [
      "Dati 10parsecs in input, i corrispondenti anni luce sono: 32.599999999999994\n"
     ]
    }
   ],
   "source": [
    "input_parsecs = input(\"inserisci i parsecs\")\n",
    "parsecs = int(input_parsecs)\n",
    "anni_luce = parsecs * 3.26\n",
    "print(\"Dati \" + input_parsecs + \" parsecs in input, i corrispondenti anni luce sono: \" + str(anni_luce))"
   ]
  }
 ],
 "metadata": {
  "kernelspec": {
   "display_name": "venv",
   "language": "python",
   "name": "python3"
  },
  "language_info": {
   "codemirror_mode": {
    "name": "ipython",
    "version": 3
   },
   "file_extension": ".py",
   "mimetype": "text/x-python",
   "name": "python",
   "nbconvert_exporter": "python",
   "pygments_lexer": "ipython3",
   "version": "3.11.1"
  },
  "orig_nbformat": 4,
  "vscode": {
   "interpreter": {
    "hash": "97b9d7dbfee346f254f8928f757f056fd570404a7ae547862aaa216688f151ec"
   }
  }
 },
 "nbformat": 4,
 "nbformat_minor": 2
}
