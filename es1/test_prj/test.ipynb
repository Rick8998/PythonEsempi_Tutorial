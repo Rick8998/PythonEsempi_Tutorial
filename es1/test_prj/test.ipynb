{
 "cells": [
  {
   "attachments": {},
   "cell_type": "markdown",
   "metadata": {},
   "source": [
    "test import"
   ]
  },
  {
   "cell_type": "code",
   "execution_count": null,
   "metadata": {},
   "outputs": [],
   "source": [
    "from datetime import *\n",
    "from dateutil.relativedelta import*\n",
    "now = datetime.now()\n",
    "print(now)\n",
    "\n",
    "now = now + relativedelta(months=1, weeks=1, hour=10)\n",
    "print(now)"
   ]
  }
 ],
 "metadata": {
  "language_info": {
   "name": "python"
  },
  "orig_nbformat": 4
 },
 "nbformat": 4,
 "nbformat_minor": 2
}
