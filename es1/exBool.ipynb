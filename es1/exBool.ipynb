{
 "cells": [
  {
   "attachments": {},
   "cell_type": "markdown",
   "metadata": {},
   "source": [
    "esempi logica booleana"
   ]
  },
  {
   "cell_type": "code",
   "execution_count": 4,
   "metadata": {},
   "outputs": [
    {
     "name": "stdout",
     "output_type": "stream",
     "text": [
      "a è più piccolo di b\n",
      "b =  92\n",
      "a =  64\n"
     ]
    }
   ],
   "source": [
    "a = 64\n",
    "b = 92\n",
    "if a < b:\n",
    "    print(\"a è più piccolo di b\")\n",
    "    print(\"b = \", b)\n",
    "    print(\"a = \", a)"
   ]
  },
  {
   "cell_type": "code",
   "execution_count": 5,
   "metadata": {},
   "outputs": [
    {
     "name": "stdout",
     "output_type": "stream",
     "text": [
      "a < b\n"
     ]
    }
   ],
   "source": [
    "a = 43\n",
    "b = 97\n",
    "if a < b:\n",
    "    print(\"a < b\")\n",
    "else:\n",
    "    print(\"a > b\")"
   ]
  },
  {
   "cell_type": "code",
   "execution_count": 7,
   "metadata": {},
   "outputs": [
    {
     "name": "stdout",
     "output_type": "stream",
     "text": [
      "a = b\n"
     ]
    }
   ],
   "source": [
    "a = 32\n",
    "b = 32\n",
    "if a < b:\n",
    "    print(\"a < b\")\n",
    "elif a > b:\n",
    "    print(\"a > b\")\n",
    "else:\n",
    "    print(\"a = b\")"
   ]
  },
  {
   "attachments": {},
   "cell_type": "markdown",
   "metadata": {},
   "source": [
    " code to determine if a piece of space debris is of a dangerous size. For this exercise we will use an arbitrary size of 5 meters cubed (5m3); anything larger is a potentially dangerous object."
   ]
  },
  {
   "cell_type": "code",
   "execution_count": 13,
   "metadata": {},
   "outputs": [
    {
     "name": "stdout",
     "output_type": "stream",
     "text": [
      "object dimension:  65 --> DANGER\n"
     ]
    }
   ],
   "source": [
    "obj_dim = input(\"inserisci la dimensione osservata dell'oggetto\")\n",
    "if int(obj_dim) > 5:\n",
    "    print(\"object dimension: \", obj_dim,\"--> DANGER\")\n",
    "else:\n",
    "     print(\"object dimension: \", obj_dim,\"--> SAFE\")"
   ]
  },
  {
   "attachments": {},
   "cell_type": "markdown",
   "metadata": {},
   "source": [
    "AND e OR"
   ]
  },
  {
   "cell_type": "code",
   "execution_count": 14,
   "metadata": {},
   "outputs": [
    {
     "name": "stdout",
     "output_type": "stream",
     "text": [
      "a > 0 and b > 10\n"
     ]
    }
   ],
   "source": [
    "a = 23\n",
    "b = 33\n",
    "if a > 0 and b > 10:\n",
    "    print(\"a > 0 and b > 10\")"
   ]
  },
  {
   "cell_type": "code",
   "execution_count": 15,
   "metadata": {},
   "outputs": [],
   "source": [
    "a = 23\n",
    "b = 3\n",
    "if a > 0 and b > 10:\n",
    "    print(\"a > 0 and b > 10\")\n",
    "elif a > 0 or b > 10:\n",
    "    print(\"a > 0 or b > 10\")"
   ]
  }
 ],
 "metadata": {
  "kernelspec": {
   "display_name": "venv",
   "language": "python",
   "name": "python3"
  },
  "language_info": {
   "codemirror_mode": {
    "name": "ipython",
    "version": 3
   },
   "file_extension": ".py",
   "mimetype": "text/x-python",
   "name": "python",
   "nbconvert_exporter": "python",
   "pygments_lexer": "ipython3",
   "version": "3.11.1"
  },
  "orig_nbformat": 4,
  "vscode": {
   "interpreter": {
    "hash": "97b9d7dbfee346f254f8928f757f056fd570404a7ae547862aaa216688f151ec"
   }
  }
 },
 "nbformat": 4,
 "nbformat_minor": 2
}
