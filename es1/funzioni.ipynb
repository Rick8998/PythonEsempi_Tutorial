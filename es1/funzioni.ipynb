{
 "cells": [
  {
   "attachments": {},
   "cell_type": "markdown",
   "metadata": {},
   "source": [
    "# Funzioni\n",
    "Per creare una funzione, si usa la parola chiave def seguita da un nome, da parentesi e quindi dal corpo con il codice della funzione\n",
    "\n",
    "Per usare la funzione, è necessario effettuare la chiamata in base al nome con le parentesi"
   ]
  },
  {
   "attachments": {},
   "cell_type": "markdown",
   "metadata": {},
   "source": [
    "# Funzioni senza argomanti"
   ]
  },
  {
   "cell_type": "code",
   "execution_count": 2,
   "metadata": {},
   "outputs": [
    {
     "name": "stdout",
     "output_type": "stream",
     "text": [
      "payload, propellant, structure\n"
     ]
    }
   ],
   "source": [
    "def rocket_parts():\n",
    "    print(\"payload, propellant, structure\")\n",
    "\n",
    "rocket_parts()"
   ]
  },
  {
   "cell_type": "code",
   "execution_count": 3,
   "metadata": {},
   "outputs": [
    {
     "name": "stdout",
     "output_type": "stream",
     "text": [
      "payload, propellant, structure\n"
     ]
    },
    {
     "data": {
      "text/plain": [
       "True"
      ]
     },
     "execution_count": 3,
     "metadata": {},
     "output_type": "execute_result"
    }
   ],
   "source": [
    "output = rocket_parts()\n",
    "output is None"
   ]
  },
  {
   "attachments": {},
   "cell_type": "markdown",
   "metadata": {},
   "source": [
    "la funzione rocket_parts() non ha restituito in modo esplicito un valore. In Python, se una funzione non restituisce in modo esplicito un valore, implicitamente la variabile sarà None. L'aggiornamento della funzione per restituire la stringa anziché stamparla fa sì che la variabile output abbia un valore diverso"
   ]
  },
  {
   "cell_type": "code",
   "execution_count": 4,
   "metadata": {},
   "outputs": [
    {
     "data": {
      "text/plain": [
       "'payload, propellant, structure'"
      ]
     },
     "execution_count": 4,
     "metadata": {},
     "output_type": "execute_result"
    }
   ],
   "source": [
    "def rocket_parts2():\n",
    "    return \"payload, propellant, structure\"\n",
    "\n",
    "output = rocket_parts2()\n",
    "output"
   ]
  },
  {
   "attachments": {},
   "cell_type": "markdown",
   "metadata": {},
   "source": [
    "# Argomenti obbligatori e facoltativi\n",
    "In Python, diverse funzioni predefinite richiedono argomenti, per altre invece sono facoltativi\n",
    "\n",
    "Un esempio di funzione predefinita che richiede un argomento è any(). Questa funzione accetta un'iterabile, ad esempio un elenco, e restituisce True se un elemento nell'iterabile è True. In caso contrario, viene restituito False.\n",
    "\n",
    "un'altra funzione predefinita è str(). Questa funzione crea una stringa da un argomento. Se non viene passato alcun argomento, restituisce una stringa vuota"
   ]
  },
  {
   "cell_type": "code",
   "execution_count": 5,
   "metadata": {},
   "outputs": [
    {
     "name": "stdout",
     "output_type": "stream",
     "text": [
      "True\n",
      "False\n",
      "\n",
      "15\n"
     ]
    }
   ],
   "source": [
    "print(any([True, False, False]))\n",
    "print(any([False, False, False]))\n",
    "\n",
    "# any() --> darebbe errore\n",
    "#Traceback (most recent call last):\n",
    "  #File \"<stdin>\", line 1, in <module>\n",
    "#TypeError: any() takes exactly one argument (0 given)\n",
    "\n",
    "print(str())\n",
    "print(str(15))"
   ]
  },
  {
   "attachments": {},
   "cell_type": "markdown",
   "metadata": {},
   "source": [
    "# Usare gli argomenti delle funzioni in Python"
   ]
  },
  {
   "cell_type": "code",
   "execution_count": 8,
   "metadata": {},
   "outputs": [
    {
     "name": "stdout",
     "output_type": "stream",
     "text": [
      "238,855\n",
      "Unable to compute to that destination\n"
     ]
    }
   ],
   "source": [
    "def distance_from_earth(destination):\n",
    "    if destination == \"Moon\":\n",
    "        return \"238,855\"\n",
    "    else:\n",
    "        return \"Unable to compute to that destination\"\n",
    "\n",
    "print(distance_from_earth(\"Moon\"))\n",
    "print(distance_from_earth(\"Saturn\"))"
   ]
  },
  {
   "attachments": {},
   "cell_type": "markdown",
   "metadata": {},
   "source": [
    "# Più argomenti"
   ]
  },
  {
   "cell_type": "code",
   "execution_count": 9,
   "metadata": {},
   "outputs": [
    {
     "data": {
      "text/plain": [
       "155.87878787878788"
      ]
     },
     "execution_count": 9,
     "metadata": {},
     "output_type": "execute_result"
    }
   ],
   "source": [
    "def days_to_complete(distance, speed):\n",
    "    hours = distance/speed\n",
    "    return hours/24\n",
    "\n",
    "days_to_complete(123456, 33)"
   ]
  },
  {
   "attachments": {},
   "cell_type": "markdown",
   "metadata": {},
   "source": [
    "# Funzioni come argomenti\n"
   ]
  },
  {
   "cell_type": "code",
   "execution_count": 11,
   "metadata": {},
   "outputs": [
    {
     "name": "stdout",
     "output_type": "stream",
     "text": [
      "133\n",
      "133\n"
     ]
    }
   ],
   "source": [
    "total_days = days_to_complete(238855, 75)\n",
    "print(round(total_days))\n",
    "\n",
    "print(round(days_to_complete(238855, 75)))"
   ]
  },
  {
   "attachments": {},
   "cell_type": "markdown",
   "metadata": {},
   "source": [
    "# Usare keyword arguments in Python\n",
    "Gli argomenti facoltativi richiedono l'assegnazione di un valore predefinito. I valori dei keyword arguments devono essere definiti nelle funzioni stesse. Quando si chiama una funzione definita con i keyword arguments, non è necessario usarli."
   ]
  },
  {
   "cell_type": "code",
   "execution_count": 14,
   "metadata": {},
   "outputs": [
    {
     "name": "stdout",
     "output_type": "stream",
     "text": [
      "Arrival: Thursday 20:42\n",
      "Arrival: Tuesday 17:42\n"
     ]
    }
   ],
   "source": [
    "from datetime import timedelta, datetime\n",
    "\n",
    "def arrival_time(hours=51): # Hours = ore impiegate per il viaggio\n",
    "    now = datetime.now()\n",
    "    arrival = now + timedelta(hours=hours)\n",
    "    return arrival.strftime(\"Arrival: %A %H:%M\")\n",
    "\n",
    "print(arrival_time())\n",
    "# Anche se la funzione definisce un argomento, consente di non passarne uno quando si chiama una funzione. \n",
    "# INel caso appena sopra, la variabile hours viene impostata su 51\n",
    "print(arrival_time(hours=0))"
   ]
  },
  {
   "attachments": {},
   "cell_type": "markdown",
   "metadata": {},
   "source": [
    "Posso combinare argomenti obbligatori e keyword arguments"
   ]
  },
  {
   "cell_type": "code",
   "execution_count": 15,
   "metadata": {},
   "outputs": [
    {
     "name": "stdout",
     "output_type": "stream",
     "text": [
      "Moon Arrival: Thursday 20:44\n",
      "Orbit Arrival: Tuesday 17:52\n"
     ]
    }
   ],
   "source": [
    "from datetime import timedelta, datetime\n",
    "\n",
    "def arrival_time(destination, hours=51):\n",
    "    now = datetime.now()\n",
    "    arrival = now + timedelta(hours=hours)\n",
    "    return arrival.strftime(f\"{destination} Arrival: %A %H:%M\")\n",
    "\n",
    "# arrival_time() --> ora darebbe errore\n",
    "\n",
    "print(arrival_time(\"Moon\"))\n",
    "print(arrival_time(\"Orbit\", hours=0.13))"
   ]
  },
  {
   "attachments": {},
   "cell_type": "markdown",
   "metadata": {},
   "source": [
    "Gli argomenti nelle funzioni sono obbligatori. Tuttavia, la funzione consente di passare un numero qualsiasi di argomenti (incluso 0). La sintassi prevede il prefisso di un singolo asterisco (*) prima del nome dell'argomento."
   ]
  },
  {
   "cell_type": "code",
   "execution_count": 17,
   "metadata": {},
   "outputs": [
    {
     "name": "stdout",
     "output_type": "stream",
     "text": [
      "()\n",
      "None\n",
      "('uno', 'due')\n",
      "None\n"
     ]
    }
   ],
   "source": [
    "def variable_length(*args):\n",
    "    print(args)\n",
    "\n",
    "print(variable_length())\n",
    "print(variable_length(\"uno\", \"due\"))"
   ]
  },
  {
   "cell_type": "code",
   "execution_count": 18,
   "metadata": {},
   "outputs": [
    {
     "name": "stdout",
     "output_type": "stream",
     "text": [
      "Total time to launch is 36 minutes\n",
      "Total time to launch is 1.1 hours\n"
     ]
    }
   ],
   "source": [
    "def sequence_time(*args):\n",
    "    total_minutes = sum(args)\n",
    "    if total_minutes < 60:\n",
    "        return f\"Total time to launch is {total_minutes} minutes\"\n",
    "    else:\n",
    "        return f\"Total time to launch is {total_minutes/60} hours\"\n",
    "\n",
    "\n",
    "print(sequence_time(4, 14, 18))\n",
    "print(sequence_time(4, 14, 48))"
   ]
  },
  {
   "attachments": {},
   "cell_type": "markdown",
   "metadata": {},
   "source": [
    "Affinché una funzione accetti un numero qualsiasi di \"keyword arguments\", si usa una sintassi simile. In questo caso, è necessario un asterisco doppio"
   ]
  },
  {
   "cell_type": "code",
   "execution_count": 19,
   "metadata": {},
   "outputs": [
    {
     "name": "stdout",
     "output_type": "stream",
     "text": [
      "{'tanks': 1, 'day': 'Wednesday', 'pilots': 3}\n"
     ]
    }
   ],
   "source": [
    "def variable_length(**kwargs):\n",
    "    print(kwargs)\n",
    "\n",
    "variable_length(tanks=1, day=\"Wednesday\", pilots=3)"
   ]
  },
  {
   "cell_type": "code",
   "execution_count": 20,
   "metadata": {},
   "outputs": [
    {
     "name": "stdout",
     "output_type": "stream",
     "text": [
      "3 astronauts assigned for this mission:\n",
      "captain: Neil Armstrong\n",
      "pilot: Buzz Aldrin\n",
      "command_pilot: Michael Collins\n"
     ]
    }
   ],
   "source": [
    "def crew_members(**kwargs):\n",
    "    print(f\"{len(kwargs)} astronauts assigned for this mission:\")\n",
    "    for title, name in kwargs.items():\n",
    "        print(f\"{title}: {name}\")\n",
    "\n",
    "\n",
    "crew_members(captain=\"Neil Armstrong\", pilot=\"Buzz Aldrin\", command_pilot=\"Michael Collins\")\n"
   ]
  }
 ],
 "metadata": {
  "kernelspec": {
   "display_name": "venv",
   "language": "python",
   "name": "python3"
  },
  "language_info": {
   "codemirror_mode": {
    "name": "ipython",
    "version": 3
   },
   "file_extension": ".py",
   "mimetype": "text/x-python",
   "name": "python",
   "nbconvert_exporter": "python",
   "pygments_lexer": "ipython3",
   "version": "3.11.1"
  },
  "orig_nbformat": 4,
  "vscode": {
   "interpreter": {
    "hash": "97b9d7dbfee346f254f8928f757f056fd570404a7ae547862aaa216688f151ec"
   }
  }
 },
 "nbformat": 4,
 "nbformat_minor": 2
}
