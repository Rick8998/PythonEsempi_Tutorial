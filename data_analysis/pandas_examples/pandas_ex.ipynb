{
 "cells": [
  {
   "cell_type": "code",
   "execution_count": 6,
   "metadata": {},
   "outputs": [
    {
     "name": "stdout",
     "output_type": "stream",
     "text": [
      "Name          Vicky\n",
      "StudyHours      1.0\n",
      "Grade           3.0\n",
      "Name: 5, dtype: object\n",
      "\n",
      "     Name  StudyHours  Grade\n",
      "0    Dan       10.00   50.0\n",
      "1  Joann       11.50   50.0\n",
      "2  Pedro        9.00   47.0\n",
      "3  Rosie       16.00   97.0\n",
      "4  Ethan        9.25   49.0\n",
      "5  Vicky        1.00    3.0\n",
      "\n",
      "     Name  StudyHours  Grade\n",
      "0    Dan       10.00   50.0\n",
      "1  Joann       11.50   50.0\n",
      "2  Pedro        9.00   47.0\n",
      "3  Rosie       16.00   97.0\n",
      "4  Ethan        9.25   49.0\n"
     ]
    }
   ],
   "source": [
    "import numpy as np\n",
    "import pandas as pd\n",
    "\n",
    "data = [50,50,47,97,49,3,53,42,26,74,82,62,37,15,70,27,36,35,48,52,63,64]\n",
    "grades = np.array(data)\n",
    "\n",
    "study_hours = [10.0,11.5,9.0,16.0,9.25,1.0,11.5,9.0,8.5,14.5,15.5, 13.75,9.0,8.0,15.5,8.0,9.0,6.0,10.0,12.0,12.5,12.0]\n",
    "student_data = np.array([study_hours, grades])\n",
    "\n",
    "df_students = pd.DataFrame({'Name': ['Dan', 'Joann', 'Pedro', 'Rosie', 'Ethan', 'Vicky', 'Frederic', 'Jimmie', \n",
    "                                     'Rhonda', 'Giovanni', 'Francesca', 'Rajab', 'Naiyana', 'Kian', 'Jenny',\n",
    "                                     'Jakeem','Helena','Ismat','Anila','Skye','Daniel','Aisha'],\n",
    "                            'StudyHours':student_data[0],\n",
    "                            'Grade':student_data[1]})\n",
    "\n",
    "#print(df_students)\n",
    "\n",
    "print(df_students.loc[5])\n",
    "# Get the rows with index values from 0 to 5\n",
    "print(\"\\n\", df_students.loc[0:5])\n",
    "# Get data in the first five rows\n",
    "print(\"\\n\", df_students.iloc[0:5])\n",
    "\n"
   ]
  },
  {
   "attachments": {},
   "cell_type": "markdown",
   "metadata": {},
   "source": [
    "Il metodo loc restituisce le righe con l'index label nell'elenco di valori da 0 a 5, che comprende 0, 1, 2, 3, 4 e 5 (sei righe). Tuttavia, il metodo iloc restituisce le righe nelle posizioni comprese nell'intervallo da 0 a 5 e, poiché gli intervalli interi non includono il valore superiore, questo include le posizioni 0, 1, 2, 3 e 4 (cinque righe).\n",
    "\n",
    "Iloc identifica i valori dei dati in un DataFrame in base alla posizione, che si estende oltre le righe alle colonne."
   ]
  },
  {
   "attachments": {},
   "cell_type": "markdown",
   "metadata": {},
   "source": [
    "ES: trovare i valori delle colonne nelle posizioni 1 e 2 della riga 0"
   ]
  },
  {
   "cell_type": "code",
   "execution_count": 8,
   "metadata": {},
   "outputs": [
    {
     "name": "stdout",
     "output_type": "stream",
     "text": [
      "StudyHours    10.0\n",
      "Grade         50.0\n",
      "Name: 0, dtype: object\n"
     ]
    }
   ],
   "source": [
    "print(df_students.iloc[0,[1,2]])"
   ]
  },
  {
   "cell_type": "code",
   "execution_count": 16,
   "metadata": {},
   "outputs": [
    {
     "name": "stdout",
     "output_type": "stream",
     "text": [
      "50.0\n",
      "\n",
      "      Name  StudyHours  Grade\n",
      "21  Aisha        12.0   64.0\n",
      "\n",
      "      Name  StudyHours  Grade\n",
      "21  Aisha        12.0   64.0\n",
      "\n",
      "      Name  StudyHours  Grade\n",
      "21  Aisha        12.0   64.0\n",
      "\n",
      "      Name  StudyHours  Grade\n",
      "21  Aisha        12.0   64.0\n"
     ]
    }
   ],
   "source": [
    "print(df_students.loc[0,'Grade'])\n",
    "\n",
    "print(\"\\n\", df_students.loc[df_students['Name']=='Aisha'])\n",
    "\n",
    "print(\"\\n\", df_students[df_students['Name']=='Aisha'])\n",
    "\n",
    "print(\"\\n\", df_students.query('Name==\"Aisha\"'))\n",
    "\n",
    "print(\"\\n\", df_students[df_students.Name == 'Aisha'])"
   ]
  }
 ],
 "metadata": {
  "kernelspec": {
   "display_name": "venv",
   "language": "python",
   "name": "python3"
  },
  "language_info": {
   "codemirror_mode": {
    "name": "ipython",
    "version": 3
   },
   "file_extension": ".py",
   "mimetype": "text/x-python",
   "name": "python",
   "nbconvert_exporter": "python",
   "pygments_lexer": "ipython3",
   "version": "3.11.1"
  },
  "orig_nbformat": 4,
  "vscode": {
   "interpreter": {
    "hash": "7a15379ae0d8f0ef22ecd260a46aacc6388338efebfd74e6cd90c549bbd87461"
   }
  }
 },
 "nbformat": 4,
 "nbformat_minor": 2
}
