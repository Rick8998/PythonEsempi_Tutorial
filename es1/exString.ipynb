{
 "cells": [
  {
   "attachments": {},
   "cell_type": "markdown",
   "metadata": {},
   "source": [
    "# Stringhe\n",
    "in python le stringhe non sono modificabili"
   ]
  },
  {
   "cell_type": "code",
   "execution_count": 4,
   "metadata": {},
   "outputs": [
    {
     "data": {
      "text/plain": [
       "'hello'"
      ]
     },
     "execution_count": 4,
     "metadata": {},
     "output_type": "execute_result"
    }
   ],
   "source": [
    "var = \"hello\"\n",
    "var + \" world\"\n",
    "\n",
    "var"
   ]
  },
  {
   "attachments": {},
   "cell_type": "markdown",
   "metadata": {},
   "source": [
    "è necessario usare un valore restituito. Quando si aggiungono stringhe, Python non modifica alcuna stringa, ma restituisce come risultato una nuova stringa. Per mantenere questo nuovo risultato bisogna assegnarlo a una nuova variabile:"
   ]
  },
  {
   "cell_type": "code",
   "execution_count": 5,
   "metadata": {},
   "outputs": [
    {
     "name": "stdout",
     "output_type": "stream",
     "text": [
      "hello world\n"
     ]
    }
   ],
   "source": [
    "var = \"hello\"\n",
    "two_strings = var + \" world\"\n",
    "print(two_strings)"
   ]
  },
  {
   "attachments": {},
   "cell_type": "markdown",
   "metadata": {},
   "source": [
    "quando una stringa contiene parole, numeri o caratteri speciali (una sottostringa) racchiusi anch'essi tra virgolette, è consigliabile usare uno stile diverso rispetto ai doppi apici\n",
    "Analogamente, se sono presenti virgolette singole"
   ]
  },
  {
   "cell_type": "code",
   "execution_count": 7,
   "metadata": {},
   "outputs": [
    {
     "data": {
      "text/plain": [
       "'The \"near side\" is the part of the Moon that faces the Earth'"
      ]
     },
     "execution_count": 7,
     "metadata": {},
     "output_type": "execute_result"
    }
   ],
   "source": [
    "var = 'The \"near side\" is the part of the Moon that faces the Earth'\n",
    "var"
   ]
  },
  {
   "attachments": {},
   "cell_type": "markdown",
   "metadata": {},
   "source": [
    "Testo su più righe\n"
   ]
  },
  {
   "cell_type": "code",
   "execution_count": 11,
   "metadata": {},
   "outputs": [
    {
     "name": "stdout",
     "output_type": "stream",
     "text": [
      "Facts about the Moon:\n",
      " There is no atmosphere.\n",
      " There is no sound.\n",
      "\n",
      "Facts about the Moon:\n",
      "  There is no atmosphere.\n",
      "  There is no sound.\n"
     ]
    }
   ],
   "source": [
    "multiline = \"Facts about the Moon:\\n There is no atmosphere.\\n There is no sound.\"\n",
    "print(multiline)\n",
    "\n",
    "#oppure con gli apici tripli\n",
    "\n",
    "multiline = \"\"\"\\nFacts about the Moon:\n",
    "  There is no atmosphere.\n",
    "  There is no sound.\"\"\"\n",
    "print(multiline)"
   ]
  },
  {
   "attachments": {},
   "cell_type": "markdown",
   "metadata": {},
   "source": [
    "# Metodi di stringa in Python\n",
    "I metodi di stringa fanno parte del tipo str. Ciò significa che i metodi esistono come variabili stringa o direttamente come parte della stringa. Ad esempio, il metodo .title() può essere usato direttamente con una stringa:"
   ]
  },
  {
   "cell_type": "code",
   "execution_count": 16,
   "metadata": {},
   "outputs": [
    {
     "name": "stdout",
     "output_type": "stream",
     "text": [
      "Temperatures And Facts About The Moon\n",
      "Temperatures And Facts About The Moon\n"
     ]
    }
   ],
   "source": [
    "print(\"temperatures and facts about the moon\".title())\n",
    "\n",
    "var = \"temperatures and facts about the moon\"\n",
    "print(var.title())"
   ]
  },
  {
   "attachments": {},
   "cell_type": "markdown",
   "metadata": {},
   "source": [
    "# Dividere una stringa\n",
    "Un metodo di stringa comune è .split(). Senza argomenti, il metodo separa la stringa in corrispondenza di ogni spazio. Verrà creato un elenco di ogni parola o numero separato da uno spazio:"
   ]
  },
  {
   "cell_type": "code",
   "execution_count": 19,
   "metadata": {},
   "outputs": [
    {
     "name": "stdout",
     "output_type": "stream",
     "text": [
      "['Daylight:', '260', 'F', 'Nighttime:', '-280', 'F']\n",
      "['Daylight: 260 F', '    Nighttime: -280 F']\n"
     ]
    }
   ],
   "source": [
    "temperatures = \"Daylight: 260 F Nighttime: -280 F\"\n",
    "print(temperatures.split())\n",
    "\n",
    "# posso dividere una stringa definita su più righe a seconda delle righe\n",
    "\n",
    "temperatures = \"\"\"Daylight: 260 F\n",
    "    Nighttime: -280 F\"\"\"\n",
    "print(temperatures.split('\\n'))"
   ]
  },
  {
   "attachments": {},
   "cell_type": "markdown",
   "metadata": {},
   "source": [
    "# Cercare una stringa\n",
    "Il modo più semplice per individuare se una determinata parola, carattere o gruppo di caratteri esiste in una stringa è:"
   ]
  },
  {
   "cell_type": "code",
   "execution_count": 21,
   "metadata": {},
   "outputs": [
    {
     "data": {
      "text/plain": [
       "False"
      ]
     },
     "execution_count": 21,
     "metadata": {},
     "output_type": "execute_result"
    }
   ],
   "source": [
    "\"Moon\" in \"This text will describe facts and challenges with space travel\""
   ]
  },
  {
   "cell_type": "code",
   "execution_count": 22,
   "metadata": {},
   "outputs": [
    {
     "data": {
      "text/plain": [
       "True"
      ]
     },
     "execution_count": 22,
     "metadata": {},
     "output_type": "execute_result"
    }
   ],
   "source": [
    "\"Moon\" in \"This text will describe facts about the Moon\""
   ]
  },
  {
   "attachments": {},
   "cell_type": "markdown",
   "metadata": {},
   "source": [
    "Un approccio per trovare la posizione di una parola specifica in una stringa consiste nell'usare il metodo .find()\n",
    "\n",
    "Il metodo .find() restituisce -1 quando la parola non viene trovata oppure restituisce l'indice"
   ]
  },
  {
   "cell_type": "code",
   "execution_count": 26,
   "metadata": {},
   "outputs": [
    {
     "data": {
      "text/plain": [
       "49"
      ]
     },
     "execution_count": 26,
     "metadata": {},
     "output_type": "execute_result"
    }
   ],
   "source": [
    "find = \"Saturn has a daytime temperature of -170 degrees Celsius\"\n",
    "find.find(\"Celsius\")"
   ]
  },
  {
   "attachments": {},
   "cell_type": "markdown",
   "metadata": {},
   "source": [
    "Un altro modo per cercare contenuti consiste nell'usare il metodo .count(), che restituisce il numero totale di occorrenze di una determinata parola in una stringa:"
   ]
  },
  {
   "cell_type": "code",
   "execution_count": 27,
   "metadata": {},
   "outputs": [
    {
     "data": {
      "text/plain": [
       "1"
      ]
     },
     "execution_count": 27,
     "metadata": {},
     "output_type": "execute_result"
    }
   ],
   "source": [
    "find.count(\"Saturn\")"
   ]
  },
  {
   "attachments": {},
   "cell_type": "markdown",
   "metadata": {},
   "source": [
    "metodi lower e upper"
   ]
  },
  {
   "cell_type": "code",
   "execution_count": 29,
   "metadata": {},
   "outputs": [
    {
     "name": "stdout",
     "output_type": "stream",
     "text": [
      "SATURN HAS A DAYTIME TEMPERATURE OF -170 DEGREES CELSIUS\n",
      "saturn has a daytime temperature of -170 degrees celsius\n"
     ]
    }
   ],
   "source": [
    "print(find.upper())\n",
    "print(find.lower())"
   ]
  },
  {
   "attachments": {},
   "cell_type": "markdown",
   "metadata": {},
   "source": [
    "# Formattazione del segno di percentuale\n",
    "Il segnaposto è %s, e la variabile viene passata nel testo dopo il carattere % all'esterno della stringa"
   ]
  },
  {
   "cell_type": "code",
   "execution_count": 30,
   "metadata": {},
   "outputs": [
    {
     "name": "stdout",
     "output_type": "stream",
     "text": [
      "On the Moon, you would weigh about 1/6 of your weight on Earth\n"
     ]
    }
   ],
   "source": [
    "mass_perc = \"1/6\"\n",
    "print(\"On the Moon, you would weigh about %s of your weight on Earth\",% mass_perc)"
   ]
  },
  {
   "attachments": {},
   "cell_type": "markdown",
   "metadata": {},
   "source": [
    "L'uso di più valori modifica la sintassi perché le variabili che vengono passate devono essere racchiuse tra parentesi:"
   ]
  },
  {
   "cell_type": "code",
   "execution_count": 31,
   "metadata": {},
   "outputs": [
    {
     "name": "stdout",
     "output_type": "stream",
     "text": [
      "Both sides of the Moon get the same amount of sunlight,\n",
      " but only one side is seen from Earth because\n",
      " the Moon rotates around its own axis when it orbits Earth.\n"
     ]
    }
   ],
   "source": [
    "print(\"\"\"Both sides of the %s get the same amount of sunlight,\n",
    " but only one side is seen from %s because\n",
    " the %s rotates around its own axis when it orbits %s.\"\"\" % (\"Moon\", \"Earth\", \"Moon\", \"Earth\"))"
   ]
  },
  {
   "attachments": {},
   "cell_type": "markdown",
   "metadata": {},
   "source": [
    "# Metodo format()"
   ]
  },
  {
   "cell_type": "code",
   "execution_count": 35,
   "metadata": {},
   "outputs": [
    {
     "name": "stdout",
     "output_type": "stream",
     "text": [
      "On the Moon, you would weigh about 1/6 of your weight on Earth\n",
      "\n",
      "You are lighter on the Moon, because on the Moon \n",
      "you would weigh about 1/6 of your weight on Earth\n"
     ]
    }
   ],
   "source": [
    "mass_percentage = \"1/6\"\n",
    "print(\"On the Moon, you would weigh about {} of your weight on Earth\".format(mass_percentage))\n",
    "\n",
    "print(\"\"\"\\nYou are lighter on the {0}, because on the {0} \n",
    "you would weigh about {1} of your weight on Earth\"\"\".format(\"Moon\", mass_percentage))\n",
    "\n",
    "print(\"\"\"\\nYou are lighter on the {moon}, because on the {moon}\n",
    "you would weigh about {mass} of your weight on Earth\"\"\".format(moon=\"Moon\", mass=mass_percentage))\n"
   ]
  }
 ],
 "metadata": {
  "kernelspec": {
   "display_name": "venv",
   "language": "python",
   "name": "python3"
  },
  "language_info": {
   "codemirror_mode": {
    "name": "ipython",
    "version": 3
   },
   "file_extension": ".py",
   "mimetype": "text/x-python",
   "name": "python",
   "nbconvert_exporter": "python",
   "pygments_lexer": "ipython3",
   "version": "3.11.1"
  },
  "orig_nbformat": 4,
  "vscode": {
   "interpreter": {
    "hash": "97b9d7dbfee346f254f8928f757f056fd570404a7ae547862aaa216688f151ec"
   }
  }
 },
 "nbformat": 4,
 "nbformat_minor": 2
}
