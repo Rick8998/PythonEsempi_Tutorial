{
 "cells": [
  {
   "attachments": {},
   "cell_type": "markdown",
   "metadata": {},
   "source": [
    "# Dizionari"
   ]
  },
  {
   "attachments": {},
   "cell_type": "markdown",
   "metadata": {},
   "source": [
    "# Creare un dizionario"
   ]
  },
  {
   "attachments": {},
   "cell_type": "markdown",
   "metadata": {},
   "source": [
    "Python usa le parentesi graffe ({ }) e i due punti (:) per indicare un dizionario. È possibile creare un dizionario vuoto e aggiungere i valori in un secondo momento oppure popolarlo in fase di creazione. Ogni coppia chiave/valore è separata da due punti e il nome di ogni chiave è contenuto tra virgolette come valore letterale stringa. Poiché la chiave è un valore letterale stringa, è possibile usare qualsiasi nome appropriato per descrivere il valore."
   ]
  },
  {
   "cell_type": "code",
   "execution_count": 12,
   "metadata": {},
   "outputs": [],
   "source": [
    "planet = {\n",
    "    'name': 'Earth',\n",
    "    'moons': 1\n",
    "}"
   ]
  },
  {
   "attachments": {},
   "cell_type": "markdown",
   "metadata": {},
   "source": [
    "# Leggere i valori del dizionario"
   ]
  },
  {
   "cell_type": "code",
   "execution_count": 13,
   "metadata": {},
   "outputs": [
    {
     "name": "stdout",
     "output_type": "stream",
     "text": [
      "Earth\n",
      "Earth\n"
     ]
    }
   ],
   "source": [
    "print(planet.get('name'))\n",
    "\n",
    "# planet['name'] is identical to using planet.get('name')\n",
    "print(planet['name'])"
   ]
  },
  {
   "attachments": {},
   "cell_type": "markdown",
   "metadata": {},
   "source": [
    "Sebbene il comportamento di get e delle parentesi quadre ([ ]) sia generalmente lo stesso per il recupero degli elementi, esiste una differenza fondamentale. Se una chiave non è disponibile, get restituisce None e [ ] genera KeyError."
   ]
  },
  {
   "attachments": {},
   "cell_type": "markdown",
   "metadata": {},
   "source": [
    "# Modificare i valori del dizionario"
   ]
  },
  {
   "cell_type": "code",
   "execution_count": 14,
   "metadata": {},
   "outputs": [
    {
     "name": "stdout",
     "output_type": "stream",
     "text": [
      "Makemake\n",
      "{'name': 'Jupiter', 'moons': 79}\n"
     ]
    }
   ],
   "source": [
    "planet.update({'name': 'Makemake'})\n",
    "print(planet.get('name'))\n",
    "\n",
    "\n",
    "# Using update\n",
    "planet.update({\n",
    "    'name': 'Jupiter',\n",
    "    'moons': 79\n",
    "})\n",
    "\n",
    "# Using square brackets\n",
    "planet['name'] = 'Jupiter'\n",
    "planet['moons'] = 79\n",
    "\n",
    "print(planet)"
   ]
  },
  {
   "attachments": {},
   "cell_type": "markdown",
   "metadata": {},
   "source": [
    "# Aggiungere e rimuovere chiavi"
   ]
  },
  {
   "cell_type": "code",
   "execution_count": 16,
   "metadata": {},
   "outputs": [
    {
     "name": "stdout",
     "output_type": "stream",
     "text": [
      "{'name': 'Jupiter', 'moons': 79, 'orbital period': 4333}\n",
      "{'name': 'Jupiter', 'moons': 79}\n"
     ]
    }
   ],
   "source": [
    "planet['orbital period'] = 4333\n",
    "print(planet)\n",
    "\n",
    "planet.pop('orbital period')\n",
    "print(planet)"
   ]
  },
  {
   "attachments": {},
   "cell_type": "markdown",
   "metadata": {},
   "source": [
    "# Tipi di dati complessi"
   ]
  },
  {
   "attachments": {},
   "cell_type": "markdown",
   "metadata": {},
   "source": [
    "I dizionari sono in grado di archiviare qualsiasi tipo di valore, inclusi altri dizionari. In questo modo è possibile modellare dati complessi in base alle esigenze.\n",
    "\n",
    "Si supponga di dover archiviare il diametro per planet, che può essere misurato intorno all'equatore o ai poli. È possibile creare un altro dizionario all'interno di planet per archiviare queste informazioni"
   ]
  },
  {
   "cell_type": "code",
   "execution_count": 17,
   "metadata": {},
   "outputs": [
    {
     "name": "stdout",
     "output_type": "stream",
     "text": [
      "{'name': 'Jupiter', 'moons': 79, 'diameter (km)': {'polar': 133709, 'equatorial': 142984}}\n"
     ]
    }
   ],
   "source": [
    "\n",
    "planet['diameter (km)'] = {\n",
    "    'polar': 133709,\n",
    "    'equatorial': 142984\n",
    "}\n",
    "\n",
    "print(planet)"
   ]
  },
  {
   "attachments": {},
   "cell_type": "markdown",
   "metadata": {},
   "source": [
    "# Programmazione dinamica con dizionari\n"
   ]
  },
  {
   "attachments": {},
   "cell_type": "markdown",
   "metadata": {},
   "source": [
    "# Recuperare tutte le chiavi e i valori\n"
   ]
  },
  {
   "cell_type": "code",
   "execution_count": 26,
   "metadata": {},
   "outputs": [
    {
     "name": "stdout",
     "output_type": "stream",
     "text": [
      "october :  3.5 cm\n",
      "november :  4.2 cm\n",
      "december :  2.1 cm\n"
     ]
    }
   ],
   "source": [
    "rainfall = {\n",
    "    'october': 3.5,\n",
    "    'november': 4.2,\n",
    "    'december': 2.1\n",
    "}\n",
    "\n",
    "for key in rainfall.keys():\n",
    "    print(key + \" : \", rainfall[key], \"cm\")\n"
   ]
  },
  {
   "attachments": {},
   "cell_type": "markdown",
   "metadata": {},
   "source": [
    "# Stabilire se in un dizionario esiste una chiave\n"
   ]
  },
  {
   "cell_type": "code",
   "execution_count": 27,
   "metadata": {},
   "outputs": [],
   "source": [
    "if 'december' in rainfall:\n",
    "    rainfall['december'] = rainfall['december'] + 1\n",
    "else:\n",
    "    rainfall['december'] = 1"
   ]
  },
  {
   "attachments": {},
   "cell_type": "markdown",
   "metadata": {},
   "source": [
    "# Recuperare tutti i valori\n"
   ]
  },
  {
   "cell_type": "code",
   "execution_count": 28,
   "metadata": {},
   "outputs": [
    {
     "name": "stdout",
     "output_type": "stream",
     "text": [
      "There was 10.8cm in the last quarter\n"
     ]
    }
   ],
   "source": [
    "total_rainfall = 0\n",
    "for value in rainfall.values():\n",
    "    total_rainfall = total_rainfall + value\n",
    "\n",
    "print(f'There was {total_rainfall}cm in the last quarter')"
   ]
  }
 ],
 "metadata": {
  "kernelspec": {
   "display_name": "venv",
   "language": "python",
   "name": "python3"
  },
  "language_info": {
   "codemirror_mode": {
    "name": "ipython",
    "version": 3
   },
   "file_extension": ".py",
   "mimetype": "text/x-python",
   "name": "python",
   "nbconvert_exporter": "python",
   "pygments_lexer": "ipython3",
   "version": "3.11.1"
  },
  "orig_nbformat": 4,
  "vscode": {
   "interpreter": {
    "hash": "97b9d7dbfee346f254f8928f757f056fd570404a7ae547862aaa216688f151ec"
   }
  }
 },
 "nbformat": 4,
 "nbformat_minor": 2
}
